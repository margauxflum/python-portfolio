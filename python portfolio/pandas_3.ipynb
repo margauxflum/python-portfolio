{
 "cells": [
  {
   "cell_type": "code",
   "execution_count": 2,
   "id": "67c15b26-c2c8-423f-b29b-21d2c0238467",
   "metadata": {},
   "outputs": [],
   "source": [
    "customer_data = [\n",
    "    [1, 'Ella', 'emily@example.com'],\n",
    "    [2, 'David', 'michael@example.com'],\n",
    "    [3, 'Zachary', 'sarah@example.com'],\n",
    "    [4, 'Alice', 'john@example.com'],\n",
    "    [5, 'Finn', 'john@example.com'],\n",
    "    [6, 'Violet', 'alice@example.com']\n",
    "]"
   ]
  },
  {
   "cell_type": "code",
   "execution_count": 4,
   "id": "01c11df1-9c43-414d-9cd6-f321b91c5cb0",
   "metadata": {},
   "outputs": [],
   "source": [
    "customer_data_columns = ['customer_id', 'name', 'email']"
   ]
  },
  {
   "cell_type": "code",
   "execution_count": 6,
   "id": "8fea0212-87ed-4a49-b237-2cf0752e8f50",
   "metadata": {},
   "outputs": [],
   "source": [
    "import pandas as pd"
   ]
  },
  {
   "cell_type": "code",
   "execution_count": 8,
   "id": "01e0b500-9a7c-4114-9d14-a5f874d1de36",
   "metadata": {},
   "outputs": [],
   "source": [
    "df = pd.DataFrame(data=customer_data, columns=customer_data_columns)"
   ]
  },
  {
   "cell_type": "code",
   "execution_count": 10,
   "id": "dd1236da-5adc-40bb-b471-9d884de85577",
   "metadata": {},
   "outputs": [
    {
     "data": {
      "text/html": [
       "<div>\n",
       "<style scoped>\n",
       "    .dataframe tbody tr th:only-of-type {\n",
       "        vertical-align: middle;\n",
       "    }\n",
       "\n",
       "    .dataframe tbody tr th {\n",
       "        vertical-align: top;\n",
       "    }\n",
       "\n",
       "    .dataframe thead th {\n",
       "        text-align: right;\n",
       "    }\n",
       "</style>\n",
       "<table border=\"1\" class=\"dataframe\">\n",
       "  <thead>\n",
       "    <tr style=\"text-align: right;\">\n",
       "      <th></th>\n",
       "      <th>customer_id</th>\n",
       "      <th>name</th>\n",
       "      <th>email</th>\n",
       "    </tr>\n",
       "  </thead>\n",
       "  <tbody>\n",
       "    <tr>\n",
       "      <th>0</th>\n",
       "      <td>1</td>\n",
       "      <td>Ella</td>\n",
       "      <td>emily@example.com</td>\n",
       "    </tr>\n",
       "    <tr>\n",
       "      <th>1</th>\n",
       "      <td>2</td>\n",
       "      <td>David</td>\n",
       "      <td>michael@example.com</td>\n",
       "    </tr>\n",
       "    <tr>\n",
       "      <th>2</th>\n",
       "      <td>3</td>\n",
       "      <td>Zachary</td>\n",
       "      <td>sarah@example.com</td>\n",
       "    </tr>\n",
       "    <tr>\n",
       "      <th>3</th>\n",
       "      <td>4</td>\n",
       "      <td>Alice</td>\n",
       "      <td>john@example.com</td>\n",
       "    </tr>\n",
       "    <tr>\n",
       "      <th>4</th>\n",
       "      <td>5</td>\n",
       "      <td>Finn</td>\n",
       "      <td>john@example.com</td>\n",
       "    </tr>\n",
       "    <tr>\n",
       "      <th>5</th>\n",
       "      <td>6</td>\n",
       "      <td>Violet</td>\n",
       "      <td>alice@example.com</td>\n",
       "    </tr>\n",
       "  </tbody>\n",
       "</table>\n",
       "</div>"
      ],
      "text/plain": [
       "   customer_id     name                email\n",
       "0            1     Ella    emily@example.com\n",
       "1            2    David  michael@example.com\n",
       "2            3  Zachary    sarah@example.com\n",
       "3            4    Alice     john@example.com\n",
       "4            5     Finn     john@example.com\n",
       "5            6   Violet    alice@example.com"
      ]
     },
     "execution_count": 10,
     "metadata": {},
     "output_type": "execute_result"
    }
   ],
   "source": [
    "df"
   ]
  },
  {
   "cell_type": "code",
   "execution_count": 18,
   "id": "17b6dd7f-a301-4126-bbab-5f2c9e527ae2",
   "metadata": {},
   "outputs": [
    {
     "data": {
      "text/plain": [
       "0      emily@example.com\n",
       "1    michael@example.com\n",
       "2      sarah@example.com\n",
       "3       john@example.com\n",
       "4       john@example.com\n",
       "5      alice@example.com\n",
       "Name: email, dtype: object"
      ]
     },
     "execution_count": 18,
     "metadata": {},
     "output_type": "execute_result"
    }
   ],
   "source": [
    "df['email']"
   ]
  },
  {
   "cell_type": "code",
   "execution_count": 20,
   "id": "9ad72e19-9676-4827-9736-bcf96be1238f",
   "metadata": {},
   "outputs": [],
   "source": [
    "df.drop_duplicates(subset='email', inplace=True)"
   ]
  },
  {
   "cell_type": "code",
   "execution_count": 22,
   "id": "61f9c4e4-5b8c-4829-8d0d-fb495492686a",
   "metadata": {},
   "outputs": [
    {
     "data": {
      "text/html": [
       "<div>\n",
       "<style scoped>\n",
       "    .dataframe tbody tr th:only-of-type {\n",
       "        vertical-align: middle;\n",
       "    }\n",
       "\n",
       "    .dataframe tbody tr th {\n",
       "        vertical-align: top;\n",
       "    }\n",
       "\n",
       "    .dataframe thead th {\n",
       "        text-align: right;\n",
       "    }\n",
       "</style>\n",
       "<table border=\"1\" class=\"dataframe\">\n",
       "  <thead>\n",
       "    <tr style=\"text-align: right;\">\n",
       "      <th></th>\n",
       "      <th>customer_id</th>\n",
       "      <th>name</th>\n",
       "      <th>email</th>\n",
       "    </tr>\n",
       "  </thead>\n",
       "  <tbody>\n",
       "    <tr>\n",
       "      <th>0</th>\n",
       "      <td>1</td>\n",
       "      <td>Ella</td>\n",
       "      <td>emily@example.com</td>\n",
       "    </tr>\n",
       "    <tr>\n",
       "      <th>1</th>\n",
       "      <td>2</td>\n",
       "      <td>David</td>\n",
       "      <td>michael@example.com</td>\n",
       "    </tr>\n",
       "    <tr>\n",
       "      <th>2</th>\n",
       "      <td>3</td>\n",
       "      <td>Zachary</td>\n",
       "      <td>sarah@example.com</td>\n",
       "    </tr>\n",
       "    <tr>\n",
       "      <th>3</th>\n",
       "      <td>4</td>\n",
       "      <td>Alice</td>\n",
       "      <td>john@example.com</td>\n",
       "    </tr>\n",
       "    <tr>\n",
       "      <th>5</th>\n",
       "      <td>6</td>\n",
       "      <td>Violet</td>\n",
       "      <td>alice@example.com</td>\n",
       "    </tr>\n",
       "  </tbody>\n",
       "</table>\n",
       "</div>"
      ],
      "text/plain": [
       "   customer_id     name                email\n",
       "0            1     Ella    emily@example.com\n",
       "1            2    David  michael@example.com\n",
       "2            3  Zachary    sarah@example.com\n",
       "3            4    Alice     john@example.com\n",
       "5            6   Violet    alice@example.com"
      ]
     },
     "execution_count": 22,
     "metadata": {},
     "output_type": "execute_result"
    }
   ],
   "source": [
    "df"
   ]
  },
  {
   "cell_type": "markdown",
   "id": "61e9ec64-0ff3-4695-a265-e15643707234",
   "metadata": {},
   "source": [
    ".drop_duplicates() removes the rows with repeated occurences of a value, takes in the subset= and inplace=True will make sure that the filtering happens on your original table"
   ]
  },
  {
   "cell_type": "code",
   "execution_count": 25,
   "id": "0729278b-5f84-4846-8e24-c8d47c7091fa",
   "metadata": {},
   "outputs": [],
   "source": [
    "student_data = [\n",
    "    [1, 'Ella', 'emily@example.com'],\n",
    "    [2, 'David', 'michael@example.com'],\n",
    "    [3, None, 'sarah@example.com'],\n",
    "    [4, 'Alice', 'john@example.com'],\n",
    "    [5, None, 'john@example.com'],\n",
    "    [6, 'Violet', 'alice@example.com']\n",
    "]"
   ]
  },
  {
   "cell_type": "code",
   "execution_count": 27,
   "id": "89a4a407-c5d4-4808-ac96-d7bac1496ae2",
   "metadata": {},
   "outputs": [],
   "source": [
    "student_data_columns = ['student_id', 'name', 'email']"
   ]
  },
  {
   "cell_type": "code",
   "execution_count": 31,
   "id": "67a25d7e-780d-4f82-82b8-aedb3162ad58",
   "metadata": {},
   "outputs": [],
   "source": [
    "df2 = pd.DataFrame(data=student_data, columns=student_data_columns)"
   ]
  },
  {
   "cell_type": "code",
   "execution_count": 33,
   "id": "e5004ed9-2b46-4b79-8ee6-e08f8ccb4523",
   "metadata": {},
   "outputs": [
    {
     "data": {
      "text/html": [
       "<div>\n",
       "<style scoped>\n",
       "    .dataframe tbody tr th:only-of-type {\n",
       "        vertical-align: middle;\n",
       "    }\n",
       "\n",
       "    .dataframe tbody tr th {\n",
       "        vertical-align: top;\n",
       "    }\n",
       "\n",
       "    .dataframe thead th {\n",
       "        text-align: right;\n",
       "    }\n",
       "</style>\n",
       "<table border=\"1\" class=\"dataframe\">\n",
       "  <thead>\n",
       "    <tr style=\"text-align: right;\">\n",
       "      <th></th>\n",
       "      <th>student_id</th>\n",
       "      <th>name</th>\n",
       "      <th>email</th>\n",
       "    </tr>\n",
       "  </thead>\n",
       "  <tbody>\n",
       "    <tr>\n",
       "      <th>0</th>\n",
       "      <td>1</td>\n",
       "      <td>Ella</td>\n",
       "      <td>emily@example.com</td>\n",
       "    </tr>\n",
       "    <tr>\n",
       "      <th>1</th>\n",
       "      <td>2</td>\n",
       "      <td>David</td>\n",
       "      <td>michael@example.com</td>\n",
       "    </tr>\n",
       "    <tr>\n",
       "      <th>2</th>\n",
       "      <td>3</td>\n",
       "      <td>None</td>\n",
       "      <td>sarah@example.com</td>\n",
       "    </tr>\n",
       "    <tr>\n",
       "      <th>3</th>\n",
       "      <td>4</td>\n",
       "      <td>Alice</td>\n",
       "      <td>john@example.com</td>\n",
       "    </tr>\n",
       "    <tr>\n",
       "      <th>4</th>\n",
       "      <td>5</td>\n",
       "      <td>None</td>\n",
       "      <td>john@example.com</td>\n",
       "    </tr>\n",
       "    <tr>\n",
       "      <th>5</th>\n",
       "      <td>6</td>\n",
       "      <td>Violet</td>\n",
       "      <td>alice@example.com</td>\n",
       "    </tr>\n",
       "  </tbody>\n",
       "</table>\n",
       "</div>"
      ],
      "text/plain": [
       "   student_id    name                email\n",
       "0           1    Ella    emily@example.com\n",
       "1           2   David  michael@example.com\n",
       "2           3    None    sarah@example.com\n",
       "3           4   Alice     john@example.com\n",
       "4           5    None     john@example.com\n",
       "5           6  Violet    alice@example.com"
      ]
     },
     "execution_count": 33,
     "metadata": {},
     "output_type": "execute_result"
    }
   ],
   "source": [
    "df2"
   ]
  },
  {
   "cell_type": "code",
   "execution_count": 37,
   "id": "a7fe2496-ceb3-455c-8cbf-0f0717fc049f",
   "metadata": {},
   "outputs": [],
   "source": [
    "df2.dropna(subset='name', inplace=True)"
   ]
  },
  {
   "cell_type": "code",
   "execution_count": null,
   "id": "dd247c01-a0b8-4bc5-9da6-d3cc3e9ffe8b",
   "metadata": {},
   "outputs": [],
   "source": []
  },
  {
   "cell_type": "code",
   "execution_count": 39,
   "id": "cc95c725-2b5d-4b31-89ac-e56ee933da7a",
   "metadata": {},
   "outputs": [
    {
     "data": {
      "text/html": [
       "<div>\n",
       "<style scoped>\n",
       "    .dataframe tbody tr th:only-of-type {\n",
       "        vertical-align: middle;\n",
       "    }\n",
       "\n",
       "    .dataframe tbody tr th {\n",
       "        vertical-align: top;\n",
       "    }\n",
       "\n",
       "    .dataframe thead th {\n",
       "        text-align: right;\n",
       "    }\n",
       "</style>\n",
       "<table border=\"1\" class=\"dataframe\">\n",
       "  <thead>\n",
       "    <tr style=\"text-align: right;\">\n",
       "      <th></th>\n",
       "      <th>student_id</th>\n",
       "      <th>name</th>\n",
       "      <th>email</th>\n",
       "    </tr>\n",
       "  </thead>\n",
       "  <tbody>\n",
       "    <tr>\n",
       "      <th>0</th>\n",
       "      <td>1</td>\n",
       "      <td>Ella</td>\n",
       "      <td>emily@example.com</td>\n",
       "    </tr>\n",
       "    <tr>\n",
       "      <th>1</th>\n",
       "      <td>2</td>\n",
       "      <td>David</td>\n",
       "      <td>michael@example.com</td>\n",
       "    </tr>\n",
       "    <tr>\n",
       "      <th>3</th>\n",
       "      <td>4</td>\n",
       "      <td>Alice</td>\n",
       "      <td>john@example.com</td>\n",
       "    </tr>\n",
       "    <tr>\n",
       "      <th>5</th>\n",
       "      <td>6</td>\n",
       "      <td>Violet</td>\n",
       "      <td>alice@example.com</td>\n",
       "    </tr>\n",
       "  </tbody>\n",
       "</table>\n",
       "</div>"
      ],
      "text/plain": [
       "   student_id    name                email\n",
       "0           1    Ella    emily@example.com\n",
       "1           2   David  michael@example.com\n",
       "3           4   Alice     john@example.com\n",
       "5           6  Violet    alice@example.com"
      ]
     },
     "execution_count": 39,
     "metadata": {},
     "output_type": "execute_result"
    }
   ],
   "source": [
    "df2"
   ]
  },
  {
   "cell_type": "markdown",
   "id": "61f73563-42e9-4ca2-bde4-9c3ebfa46e70",
   "metadata": {},
   "source": [
    ".dropna() used to remove the rows that have no values for a certain column. It takes the same arguments as .dropduplicates(), takes a subset= and inplace=True"
   ]
  },
  {
   "cell_type": "markdown",
   "id": "cf50aeda-1457-4dfe-a729-af14408d608e",
   "metadata": {},
   "source": [
    "if you want to drop empty values for more than one column, write the subset as a list: subset=['name','email']"
   ]
  },
  {
   "cell_type": "code",
   "execution_count": 44,
   "id": "ad184239-8ff0-4880-8613-4d5337f42d63",
   "metadata": {},
   "outputs": [],
   "source": [
    "salary_data = [\n",
    "    ['Jack', 20000],\n",
    "    ['Piper', 75000],\n",
    "    ['Mia', 60000],\n",
    "    ['Ulysses', 55000]\n",
    "]"
   ]
  },
  {
   "cell_type": "code",
   "execution_count": 48,
   "id": "2f6da08e-4884-4c35-9cb9-60ae91073a15",
   "metadata": {},
   "outputs": [],
   "source": [
    "df3 = pd.DataFrame(data=salary_data, columns=['name', 'salary'])"
   ]
  },
  {
   "cell_type": "code",
   "execution_count": 50,
   "id": "696dcff4-b9be-4256-be3b-28ea14f7056b",
   "metadata": {},
   "outputs": [
    {
     "data": {
      "text/html": [
       "<div>\n",
       "<style scoped>\n",
       "    .dataframe tbody tr th:only-of-type {\n",
       "        vertical-align: middle;\n",
       "    }\n",
       "\n",
       "    .dataframe tbody tr th {\n",
       "        vertical-align: top;\n",
       "    }\n",
       "\n",
       "    .dataframe thead th {\n",
       "        text-align: right;\n",
       "    }\n",
       "</style>\n",
       "<table border=\"1\" class=\"dataframe\">\n",
       "  <thead>\n",
       "    <tr style=\"text-align: right;\">\n",
       "      <th></th>\n",
       "      <th>name</th>\n",
       "      <th>salary</th>\n",
       "    </tr>\n",
       "  </thead>\n",
       "  <tbody>\n",
       "    <tr>\n",
       "      <th>0</th>\n",
       "      <td>Jack</td>\n",
       "      <td>20000</td>\n",
       "    </tr>\n",
       "    <tr>\n",
       "      <th>1</th>\n",
       "      <td>Piper</td>\n",
       "      <td>75000</td>\n",
       "    </tr>\n",
       "    <tr>\n",
       "      <th>2</th>\n",
       "      <td>Mia</td>\n",
       "      <td>60000</td>\n",
       "    </tr>\n",
       "    <tr>\n",
       "      <th>3</th>\n",
       "      <td>Ulysses</td>\n",
       "      <td>55000</td>\n",
       "    </tr>\n",
       "  </tbody>\n",
       "</table>\n",
       "</div>"
      ],
      "text/plain": [
       "      name  salary\n",
       "0     Jack   20000\n",
       "1    Piper   75000\n",
       "2      Mia   60000\n",
       "3  Ulysses   55000"
      ]
     },
     "execution_count": 50,
     "metadata": {},
     "output_type": "execute_result"
    }
   ],
   "source": [
    "df3"
   ]
  },
  {
   "cell_type": "markdown",
   "id": "7915b794-02e4-4841-9fb0-e7e4e94f3bc1",
   "metadata": {},
   "source": [
    "focus in on the salary column,\n",
    "double each value in each row,\n",
    "update the salary column with the doubled salary"
   ]
  },
  {
   "cell_type": "code",
   "execution_count": 53,
   "id": "ff44e032-cb8d-48f5-aa3b-1060ab66d893",
   "metadata": {},
   "outputs": [],
   "source": [
    "df3['salary'] = df3['salary'] * 2"
   ]
  },
  {
   "cell_type": "code",
   "execution_count": 55,
   "id": "76d8c7ac-b6bc-495d-a76c-cbd9a19ad6e1",
   "metadata": {},
   "outputs": [
    {
     "data": {
      "text/html": [
       "<div>\n",
       "<style scoped>\n",
       "    .dataframe tbody tr th:only-of-type {\n",
       "        vertical-align: middle;\n",
       "    }\n",
       "\n",
       "    .dataframe tbody tr th {\n",
       "        vertical-align: top;\n",
       "    }\n",
       "\n",
       "    .dataframe thead th {\n",
       "        text-align: right;\n",
       "    }\n",
       "</style>\n",
       "<table border=\"1\" class=\"dataframe\">\n",
       "  <thead>\n",
       "    <tr style=\"text-align: right;\">\n",
       "      <th></th>\n",
       "      <th>name</th>\n",
       "      <th>salary</th>\n",
       "    </tr>\n",
       "  </thead>\n",
       "  <tbody>\n",
       "    <tr>\n",
       "      <th>0</th>\n",
       "      <td>Jack</td>\n",
       "      <td>40000</td>\n",
       "    </tr>\n",
       "    <tr>\n",
       "      <th>1</th>\n",
       "      <td>Piper</td>\n",
       "      <td>150000</td>\n",
       "    </tr>\n",
       "    <tr>\n",
       "      <th>2</th>\n",
       "      <td>Mia</td>\n",
       "      <td>120000</td>\n",
       "    </tr>\n",
       "    <tr>\n",
       "      <th>3</th>\n",
       "      <td>Ulysses</td>\n",
       "      <td>110000</td>\n",
       "    </tr>\n",
       "  </tbody>\n",
       "</table>\n",
       "</div>"
      ],
      "text/plain": [
       "      name  salary\n",
       "0     Jack   40000\n",
       "1    Piper  150000\n",
       "2      Mia  120000\n",
       "3  Ulysses  110000"
      ]
     },
     "execution_count": 55,
     "metadata": {},
     "output_type": "execute_result"
    }
   ],
   "source": [
    "df3"
   ]
  },
  {
   "cell_type": "markdown",
   "id": "20aa0279-fe97-49b1-9766-7d0ed0925b44",
   "metadata": {},
   "source": [
    "Updating existing values of a column: we access the row values for 'salary' and multiply it by 2, we set this new computation as the new row value for 'salary'"
   ]
  },
  {
   "cell_type": "code",
   "execution_count": 59,
   "id": "0eed1258-aee5-49e0-8a7f-5a6a2d41b45d",
   "metadata": {},
   "outputs": [],
   "source": [
    "names_data = [\n",
    "    [1, 'Ella', 'emily@example.com'],\n",
    "    [2, 'David', 'michael@example.com'],\n",
    "    [3, 'Zachary', 'sarah@example.com'],\n",
    "    [4, 'Alice', 'john@example.com'],\n",
    "    [5, 'Finn', 'john@example.com'],\n",
    "    [6, 'Violet', 'alice@example.com']\n",
    "]"
   ]
  },
  {
   "cell_type": "code",
   "execution_count": 61,
   "id": "b246e8d0-9f6f-4a4f-81be-13a1e8bedb74",
   "metadata": {},
   "outputs": [],
   "source": [
    "names_data_columns = ['id', 'first', 'email']"
   ]
  },
  {
   "cell_type": "code",
   "execution_count": 63,
   "id": "7b1839c9-f721-4b34-9973-0977d4e414d7",
   "metadata": {},
   "outputs": [],
   "source": [
    "df4 = pd.DataFrame(data=names_data, columns=names_data_columns) "
   ]
  },
  {
   "cell_type": "code",
   "execution_count": 65,
   "id": "cb35376e-cf5a-4352-bd8d-c3e3eeab6781",
   "metadata": {},
   "outputs": [
    {
     "data": {
      "text/html": [
       "<div>\n",
       "<style scoped>\n",
       "    .dataframe tbody tr th:only-of-type {\n",
       "        vertical-align: middle;\n",
       "    }\n",
       "\n",
       "    .dataframe tbody tr th {\n",
       "        vertical-align: top;\n",
       "    }\n",
       "\n",
       "    .dataframe thead th {\n",
       "        text-align: right;\n",
       "    }\n",
       "</style>\n",
       "<table border=\"1\" class=\"dataframe\">\n",
       "  <thead>\n",
       "    <tr style=\"text-align: right;\">\n",
       "      <th></th>\n",
       "      <th>id</th>\n",
       "      <th>first</th>\n",
       "      <th>email</th>\n",
       "    </tr>\n",
       "  </thead>\n",
       "  <tbody>\n",
       "    <tr>\n",
       "      <th>0</th>\n",
       "      <td>1</td>\n",
       "      <td>Ella</td>\n",
       "      <td>emily@example.com</td>\n",
       "    </tr>\n",
       "    <tr>\n",
       "      <th>1</th>\n",
       "      <td>2</td>\n",
       "      <td>David</td>\n",
       "      <td>michael@example.com</td>\n",
       "    </tr>\n",
       "    <tr>\n",
       "      <th>2</th>\n",
       "      <td>3</td>\n",
       "      <td>Zachary</td>\n",
       "      <td>sarah@example.com</td>\n",
       "    </tr>\n",
       "    <tr>\n",
       "      <th>3</th>\n",
       "      <td>4</td>\n",
       "      <td>Alice</td>\n",
       "      <td>john@example.com</td>\n",
       "    </tr>\n",
       "    <tr>\n",
       "      <th>4</th>\n",
       "      <td>5</td>\n",
       "      <td>Finn</td>\n",
       "      <td>john@example.com</td>\n",
       "    </tr>\n",
       "    <tr>\n",
       "      <th>5</th>\n",
       "      <td>6</td>\n",
       "      <td>Violet</td>\n",
       "      <td>alice@example.com</td>\n",
       "    </tr>\n",
       "  </tbody>\n",
       "</table>\n",
       "</div>"
      ],
      "text/plain": [
       "   id    first                email\n",
       "0   1     Ella    emily@example.com\n",
       "1   2    David  michael@example.com\n",
       "2   3  Zachary    sarah@example.com\n",
       "3   4    Alice     john@example.com\n",
       "4   5     Finn     john@example.com\n",
       "5   6   Violet    alice@example.com"
      ]
     },
     "execution_count": 65,
     "metadata": {},
     "output_type": "execute_result"
    }
   ],
   "source": [
    "df4"
   ]
  },
  {
   "cell_type": "code",
   "execution_count": 67,
   "id": "fe8cea42-c32a-4628-988c-49ee622dc1b8",
   "metadata": {},
   "outputs": [
    {
     "data": {
      "text/html": [
       "<div>\n",
       "<style scoped>\n",
       "    .dataframe tbody tr th:only-of-type {\n",
       "        vertical-align: middle;\n",
       "    }\n",
       "\n",
       "    .dataframe tbody tr th {\n",
       "        vertical-align: top;\n",
       "    }\n",
       "\n",
       "    .dataframe thead th {\n",
       "        text-align: right;\n",
       "    }\n",
       "</style>\n",
       "<table border=\"1\" class=\"dataframe\">\n",
       "  <thead>\n",
       "    <tr style=\"text-align: right;\">\n",
       "      <th></th>\n",
       "      <th>student_id</th>\n",
       "      <th>first_name</th>\n",
       "      <th>email_address</th>\n",
       "    </tr>\n",
       "  </thead>\n",
       "  <tbody>\n",
       "    <tr>\n",
       "      <th>0</th>\n",
       "      <td>1</td>\n",
       "      <td>Ella</td>\n",
       "      <td>emily@example.com</td>\n",
       "    </tr>\n",
       "    <tr>\n",
       "      <th>1</th>\n",
       "      <td>2</td>\n",
       "      <td>David</td>\n",
       "      <td>michael@example.com</td>\n",
       "    </tr>\n",
       "    <tr>\n",
       "      <th>2</th>\n",
       "      <td>3</td>\n",
       "      <td>Zachary</td>\n",
       "      <td>sarah@example.com</td>\n",
       "    </tr>\n",
       "    <tr>\n",
       "      <th>3</th>\n",
       "      <td>4</td>\n",
       "      <td>Alice</td>\n",
       "      <td>john@example.com</td>\n",
       "    </tr>\n",
       "    <tr>\n",
       "      <th>4</th>\n",
       "      <td>5</td>\n",
       "      <td>Finn</td>\n",
       "      <td>john@example.com</td>\n",
       "    </tr>\n",
       "    <tr>\n",
       "      <th>5</th>\n",
       "      <td>6</td>\n",
       "      <td>Violet</td>\n",
       "      <td>alice@example.com</td>\n",
       "    </tr>\n",
       "  </tbody>\n",
       "</table>\n",
       "</div>"
      ],
      "text/plain": [
       "   student_id first_name        email_address\n",
       "0           1       Ella    emily@example.com\n",
       "1           2      David  michael@example.com\n",
       "2           3    Zachary    sarah@example.com\n",
       "3           4      Alice     john@example.com\n",
       "4           5       Finn     john@example.com\n",
       "5           6     Violet    alice@example.com"
      ]
     },
     "execution_count": 67,
     "metadata": {},
     "output_type": "execute_result"
    }
   ],
   "source": [
    "df4.rename(columns={\n",
    "    'id': 'student_id',\n",
    "    'first': 'first_name',\n",
    "    'email': 'email_address'\n",
    "})"
   ]
  },
  {
   "cell_type": "markdown",
   "id": "5fdd6bb8-2fd6-45ec-9cc5-23ed16a14107",
   "metadata": {},
   "source": [
    ".rename() renames the column names for your table. It takes a variable called columns= where you can provide a mapping between old column name and new column name. "
   ]
  },
  {
   "cell_type": "code",
   "execution_count": 70,
   "id": "e74085bf-88f0-4e64-8600-e1488b700101",
   "metadata": {},
   "outputs": [
    {
     "data": {
      "text/plain": [
       "id        int64\n",
       "first    object\n",
       "email    object\n",
       "dtype: object"
      ]
     },
     "execution_count": 70,
     "metadata": {},
     "output_type": "execute_result"
    }
   ],
   "source": [
    "df4.dtypes"
   ]
  },
  {
   "cell_type": "code",
   "execution_count": null,
   "id": "3a5c6db4-394f-44b7-90f9-a8c4ecd4def5",
   "metadata": {},
   "outputs": [],
   "source": []
  }
 ],
 "metadata": {
  "kernelspec": {
   "display_name": "Python 3 (ipykernel)",
   "language": "python",
   "name": "python3"
  },
  "language_info": {
   "codemirror_mode": {
    "name": "ipython",
    "version": 3
   },
   "file_extension": ".py",
   "mimetype": "text/x-python",
   "name": "python",
   "nbconvert_exporter": "python",
   "pygments_lexer": "ipython3",
   "version": "3.12.4"
  }
 },
 "nbformat": 4,
 "nbformat_minor": 5
}
